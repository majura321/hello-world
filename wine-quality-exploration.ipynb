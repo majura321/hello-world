{
 "cells": [
  {
   "cell_type": "code",
   "execution_count": 1,
   "id": "333160ed",
   "metadata": {
    "_cell_guid": "b1076dfc-b9ad-4769-8c92-a6c4dae69d19",
    "_uuid": "8f2839f25d086af736a60e9eeb907d3b93b6e0e5",
    "execution": {
     "iopub.execute_input": "2022-01-16T12:55:51.400903Z",
     "iopub.status.busy": "2022-01-16T12:55:51.398728Z",
     "iopub.status.idle": "2022-01-16T12:55:51.417406Z",
     "shell.execute_reply": "2022-01-16T12:55:51.418142Z",
     "shell.execute_reply.started": "2022-01-16T12:53:44.340494Z"
    },
    "papermill": {
     "duration": 0.05256,
     "end_time": "2022-01-16T12:55:51.418597",
     "exception": false,
     "start_time": "2022-01-16T12:55:51.366037",
     "status": "completed"
    },
    "tags": []
   },
   "outputs": [
    {
     "name": "stdout",
     "output_type": "stream",
     "text": [
      "/kaggle/input/wine-quality-dataset/WineQT.csv\n"
     ]
    }
   ],
   "source": [
    "# This Python 3 environment comes with many helpful analytics libraries installed\n",
    "# It is defined by the kaggle/python Docker image: https://github.com/kaggle/docker-python\n",
    "# For example, here's several helpful packages to load\n",
    "\n",
    "import numpy as np # linear algebra\n",
    "import pandas as pd # data processing, CSV file I/O (e.g. pd.read_csv)\n",
    "\n",
    "# Input data files are available in the read-only \"../input/\" directory\n",
    "# For example, running this (by clicking run or pressing Shift+Enter) will list all files under the input directory\n",
    "\n",
    "import os\n",
    "for dirname, _, filenames in os.walk('/kaggle/input'):\n",
    "    for filename in filenames:\n",
    "        print(os.path.join(dirname, filename))\n",
    "\n",
    "# You can write up to 20GB to the current directory (/kaggle/working/) that gets preserved as output when you create a version using \"Save & Run All\" \n",
    "# You can also write temporary files to /kaggle/temp/, but they won't be saved outside of the current session"
   ]
  },
  {
   "cell_type": "code",
   "execution_count": 2,
   "id": "cc357c73",
   "metadata": {
    "execution": {
     "iopub.execute_input": "2022-01-16T12:55:51.476343Z",
     "iopub.status.busy": "2022-01-16T12:55:51.473373Z",
     "iopub.status.idle": "2022-01-16T12:55:51.492949Z",
     "shell.execute_reply": "2022-01-16T12:55:51.493541Z",
     "shell.execute_reply.started": "2022-01-16T12:53:44.350934Z"
    },
    "papermill": {
     "duration": 0.048583,
     "end_time": "2022-01-16T12:55:51.493790",
     "exception": false,
     "start_time": "2022-01-16T12:55:51.445207",
     "status": "completed"
    },
    "tags": []
   },
   "outputs": [],
   "source": [
    "df = pd.read_csv('../input/wine-quality-dataset/WineQT.csv')"
   ]
  },
  {
   "cell_type": "markdown",
   "id": "911d6bc5",
   "metadata": {
    "papermill": {
     "duration": 0.025148,
     "end_time": "2022-01-16T12:55:51.544185",
     "exception": false,
     "start_time": "2022-01-16T12:55:51.519037",
     "status": "completed"
    },
    "tags": []
   },
   "source": [
    "<h1>Preliminary exploration</h1>"
   ]
  },
  {
   "cell_type": "code",
   "execution_count": 3,
   "id": "a3734961",
   "metadata": {
    "execution": {
     "iopub.execute_input": "2022-01-16T12:55:51.603964Z",
     "iopub.status.busy": "2022-01-16T12:55:51.602877Z",
     "iopub.status.idle": "2022-01-16T12:55:51.632307Z",
     "shell.execute_reply": "2022-01-16T12:55:51.632826Z",
     "shell.execute_reply.started": "2022-01-16T12:53:44.371000Z"
    },
    "papermill": {
     "duration": 0.064035,
     "end_time": "2022-01-16T12:55:51.633023",
     "exception": false,
     "start_time": "2022-01-16T12:55:51.568988",
     "status": "completed"
    },
    "tags": []
   },
   "outputs": [
    {
     "data": {
      "text/html": [
       "<div>\n",
       "<style scoped>\n",
       "    .dataframe tbody tr th:only-of-type {\n",
       "        vertical-align: middle;\n",
       "    }\n",
       "\n",
       "    .dataframe tbody tr th {\n",
       "        vertical-align: top;\n",
       "    }\n",
       "\n",
       "    .dataframe thead th {\n",
       "        text-align: right;\n",
       "    }\n",
       "</style>\n",
       "<table border=\"1\" class=\"dataframe\">\n",
       "  <thead>\n",
       "    <tr style=\"text-align: right;\">\n",
       "      <th></th>\n",
       "      <th>fixed acidity</th>\n",
       "      <th>volatile acidity</th>\n",
       "      <th>citric acid</th>\n",
       "      <th>residual sugar</th>\n",
       "      <th>chlorides</th>\n",
       "      <th>free sulfur dioxide</th>\n",
       "      <th>total sulfur dioxide</th>\n",
       "      <th>density</th>\n",
       "      <th>pH</th>\n",
       "      <th>sulphates</th>\n",
       "      <th>alcohol</th>\n",
       "      <th>quality</th>\n",
       "      <th>Id</th>\n",
       "    </tr>\n",
       "  </thead>\n",
       "  <tbody>\n",
       "    <tr>\n",
       "      <th>0</th>\n",
       "      <td>7.4</td>\n",
       "      <td>0.70</td>\n",
       "      <td>0.00</td>\n",
       "      <td>1.9</td>\n",
       "      <td>0.076</td>\n",
       "      <td>11.0</td>\n",
       "      <td>34.0</td>\n",
       "      <td>0.9978</td>\n",
       "      <td>3.51</td>\n",
       "      <td>0.56</td>\n",
       "      <td>9.4</td>\n",
       "      <td>5</td>\n",
       "      <td>0</td>\n",
       "    </tr>\n",
       "    <tr>\n",
       "      <th>1</th>\n",
       "      <td>7.8</td>\n",
       "      <td>0.88</td>\n",
       "      <td>0.00</td>\n",
       "      <td>2.6</td>\n",
       "      <td>0.098</td>\n",
       "      <td>25.0</td>\n",
       "      <td>67.0</td>\n",
       "      <td>0.9968</td>\n",
       "      <td>3.20</td>\n",
       "      <td>0.68</td>\n",
       "      <td>9.8</td>\n",
       "      <td>5</td>\n",
       "      <td>1</td>\n",
       "    </tr>\n",
       "    <tr>\n",
       "      <th>2</th>\n",
       "      <td>7.8</td>\n",
       "      <td>0.76</td>\n",
       "      <td>0.04</td>\n",
       "      <td>2.3</td>\n",
       "      <td>0.092</td>\n",
       "      <td>15.0</td>\n",
       "      <td>54.0</td>\n",
       "      <td>0.9970</td>\n",
       "      <td>3.26</td>\n",
       "      <td>0.65</td>\n",
       "      <td>9.8</td>\n",
       "      <td>5</td>\n",
       "      <td>2</td>\n",
       "    </tr>\n",
       "    <tr>\n",
       "      <th>3</th>\n",
       "      <td>11.2</td>\n",
       "      <td>0.28</td>\n",
       "      <td>0.56</td>\n",
       "      <td>1.9</td>\n",
       "      <td>0.075</td>\n",
       "      <td>17.0</td>\n",
       "      <td>60.0</td>\n",
       "      <td>0.9980</td>\n",
       "      <td>3.16</td>\n",
       "      <td>0.58</td>\n",
       "      <td>9.8</td>\n",
       "      <td>6</td>\n",
       "      <td>3</td>\n",
       "    </tr>\n",
       "    <tr>\n",
       "      <th>4</th>\n",
       "      <td>7.4</td>\n",
       "      <td>0.70</td>\n",
       "      <td>0.00</td>\n",
       "      <td>1.9</td>\n",
       "      <td>0.076</td>\n",
       "      <td>11.0</td>\n",
       "      <td>34.0</td>\n",
       "      <td>0.9978</td>\n",
       "      <td>3.51</td>\n",
       "      <td>0.56</td>\n",
       "      <td>9.4</td>\n",
       "      <td>5</td>\n",
       "      <td>4</td>\n",
       "    </tr>\n",
       "  </tbody>\n",
       "</table>\n",
       "</div>"
      ],
      "text/plain": [
       "   fixed acidity  volatile acidity  citric acid  residual sugar  chlorides  \\\n",
       "0            7.4              0.70         0.00             1.9      0.076   \n",
       "1            7.8              0.88         0.00             2.6      0.098   \n",
       "2            7.8              0.76         0.04             2.3      0.092   \n",
       "3           11.2              0.28         0.56             1.9      0.075   \n",
       "4            7.4              0.70         0.00             1.9      0.076   \n",
       "\n",
       "   free sulfur dioxide  total sulfur dioxide  density    pH  sulphates  \\\n",
       "0                 11.0                  34.0   0.9978  3.51       0.56   \n",
       "1                 25.0                  67.0   0.9968  3.20       0.68   \n",
       "2                 15.0                  54.0   0.9970  3.26       0.65   \n",
       "3                 17.0                  60.0   0.9980  3.16       0.58   \n",
       "4                 11.0                  34.0   0.9978  3.51       0.56   \n",
       "\n",
       "   alcohol  quality  Id  \n",
       "0      9.4        5   0  \n",
       "1      9.8        5   1  \n",
       "2      9.8        5   2  \n",
       "3      9.8        6   3  \n",
       "4      9.4        5   4  "
      ]
     },
     "execution_count": 3,
     "metadata": {},
     "output_type": "execute_result"
    }
   ],
   "source": [
    "df.head()"
   ]
  },
  {
   "cell_type": "code",
   "execution_count": 4,
   "id": "3f211f1e",
   "metadata": {
    "execution": {
     "iopub.execute_input": "2022-01-16T12:55:51.707554Z",
     "iopub.status.busy": "2022-01-16T12:55:51.699929Z",
     "iopub.status.idle": "2022-01-16T12:55:51.714802Z",
     "shell.execute_reply": "2022-01-16T12:55:51.714012Z",
     "shell.execute_reply.started": "2022-01-16T12:53:44.392813Z"
    },
    "papermill": {
     "duration": 0.056586,
     "end_time": "2022-01-16T12:55:51.714994",
     "exception": false,
     "start_time": "2022-01-16T12:55:51.658408",
     "status": "completed"
    },
    "tags": []
   },
   "outputs": [
    {
     "data": {
      "text/html": [
       "<div>\n",
       "<style scoped>\n",
       "    .dataframe tbody tr th:only-of-type {\n",
       "        vertical-align: middle;\n",
       "    }\n",
       "\n",
       "    .dataframe tbody tr th {\n",
       "        vertical-align: top;\n",
       "    }\n",
       "\n",
       "    .dataframe thead th {\n",
       "        text-align: right;\n",
       "    }\n",
       "</style>\n",
       "<table border=\"1\" class=\"dataframe\">\n",
       "  <thead>\n",
       "    <tr style=\"text-align: right;\">\n",
       "      <th></th>\n",
       "      <th>fixed acidity</th>\n",
       "      <th>volatile acidity</th>\n",
       "      <th>citric acid</th>\n",
       "      <th>residual sugar</th>\n",
       "      <th>chlorides</th>\n",
       "      <th>free sulfur dioxide</th>\n",
       "      <th>total sulfur dioxide</th>\n",
       "      <th>density</th>\n",
       "      <th>pH</th>\n",
       "      <th>sulphates</th>\n",
       "      <th>alcohol</th>\n",
       "      <th>quality</th>\n",
       "      <th>Id</th>\n",
       "    </tr>\n",
       "  </thead>\n",
       "  <tbody>\n",
       "    <tr>\n",
       "      <th>1138</th>\n",
       "      <td>6.3</td>\n",
       "      <td>0.510</td>\n",
       "      <td>0.13</td>\n",
       "      <td>2.3</td>\n",
       "      <td>0.076</td>\n",
       "      <td>29.0</td>\n",
       "      <td>40.0</td>\n",
       "      <td>0.99574</td>\n",
       "      <td>3.42</td>\n",
       "      <td>0.75</td>\n",
       "      <td>11.0</td>\n",
       "      <td>6</td>\n",
       "      <td>1592</td>\n",
       "    </tr>\n",
       "    <tr>\n",
       "      <th>1139</th>\n",
       "      <td>6.8</td>\n",
       "      <td>0.620</td>\n",
       "      <td>0.08</td>\n",
       "      <td>1.9</td>\n",
       "      <td>0.068</td>\n",
       "      <td>28.0</td>\n",
       "      <td>38.0</td>\n",
       "      <td>0.99651</td>\n",
       "      <td>3.42</td>\n",
       "      <td>0.82</td>\n",
       "      <td>9.5</td>\n",
       "      <td>6</td>\n",
       "      <td>1593</td>\n",
       "    </tr>\n",
       "    <tr>\n",
       "      <th>1140</th>\n",
       "      <td>6.2</td>\n",
       "      <td>0.600</td>\n",
       "      <td>0.08</td>\n",
       "      <td>2.0</td>\n",
       "      <td>0.090</td>\n",
       "      <td>32.0</td>\n",
       "      <td>44.0</td>\n",
       "      <td>0.99490</td>\n",
       "      <td>3.45</td>\n",
       "      <td>0.58</td>\n",
       "      <td>10.5</td>\n",
       "      <td>5</td>\n",
       "      <td>1594</td>\n",
       "    </tr>\n",
       "    <tr>\n",
       "      <th>1141</th>\n",
       "      <td>5.9</td>\n",
       "      <td>0.550</td>\n",
       "      <td>0.10</td>\n",
       "      <td>2.2</td>\n",
       "      <td>0.062</td>\n",
       "      <td>39.0</td>\n",
       "      <td>51.0</td>\n",
       "      <td>0.99512</td>\n",
       "      <td>3.52</td>\n",
       "      <td>0.76</td>\n",
       "      <td>11.2</td>\n",
       "      <td>6</td>\n",
       "      <td>1595</td>\n",
       "    </tr>\n",
       "    <tr>\n",
       "      <th>1142</th>\n",
       "      <td>5.9</td>\n",
       "      <td>0.645</td>\n",
       "      <td>0.12</td>\n",
       "      <td>2.0</td>\n",
       "      <td>0.075</td>\n",
       "      <td>32.0</td>\n",
       "      <td>44.0</td>\n",
       "      <td>0.99547</td>\n",
       "      <td>3.57</td>\n",
       "      <td>0.71</td>\n",
       "      <td>10.2</td>\n",
       "      <td>5</td>\n",
       "      <td>1597</td>\n",
       "    </tr>\n",
       "  </tbody>\n",
       "</table>\n",
       "</div>"
      ],
      "text/plain": [
       "      fixed acidity  volatile acidity  citric acid  residual sugar  chlorides  \\\n",
       "1138            6.3             0.510         0.13             2.3      0.076   \n",
       "1139            6.8             0.620         0.08             1.9      0.068   \n",
       "1140            6.2             0.600         0.08             2.0      0.090   \n",
       "1141            5.9             0.550         0.10             2.2      0.062   \n",
       "1142            5.9             0.645         0.12             2.0      0.075   \n",
       "\n",
       "      free sulfur dioxide  total sulfur dioxide  density    pH  sulphates  \\\n",
       "1138                 29.0                  40.0  0.99574  3.42       0.75   \n",
       "1139                 28.0                  38.0  0.99651  3.42       0.82   \n",
       "1140                 32.0                  44.0  0.99490  3.45       0.58   \n",
       "1141                 39.0                  51.0  0.99512  3.52       0.76   \n",
       "1142                 32.0                  44.0  0.99547  3.57       0.71   \n",
       "\n",
       "      alcohol  quality    Id  \n",
       "1138     11.0        6  1592  \n",
       "1139      9.5        6  1593  \n",
       "1140     10.5        5  1594  \n",
       "1141     11.2        6  1595  \n",
       "1142     10.2        5  1597  "
      ]
     },
     "execution_count": 4,
     "metadata": {},
     "output_type": "execute_result"
    }
   ],
   "source": [
    "df.tail()"
   ]
  },
  {
   "cell_type": "code",
   "execution_count": 5,
   "id": "d97e6999",
   "metadata": {
    "execution": {
     "iopub.execute_input": "2022-01-16T12:55:51.774570Z",
     "iopub.status.busy": "2022-01-16T12:55:51.773808Z",
     "iopub.status.idle": "2022-01-16T12:55:51.800528Z",
     "shell.execute_reply": "2022-01-16T12:55:51.801058Z",
     "shell.execute_reply.started": "2022-01-16T12:53:44.416665Z"
    },
    "papermill": {
     "duration": 0.058676,
     "end_time": "2022-01-16T12:55:51.801284",
     "exception": false,
     "start_time": "2022-01-16T12:55:51.742608",
     "status": "completed"
    },
    "tags": []
   },
   "outputs": [
    {
     "name": "stdout",
     "output_type": "stream",
     "text": [
      "<class 'pandas.core.frame.DataFrame'>\n",
      "RangeIndex: 1143 entries, 0 to 1142\n",
      "Data columns (total 13 columns):\n",
      " #   Column                Non-Null Count  Dtype  \n",
      "---  ------                --------------  -----  \n",
      " 0   fixed acidity         1143 non-null   float64\n",
      " 1   volatile acidity      1143 non-null   float64\n",
      " 2   citric acid           1143 non-null   float64\n",
      " 3   residual sugar        1143 non-null   float64\n",
      " 4   chlorides             1143 non-null   float64\n",
      " 5   free sulfur dioxide   1143 non-null   float64\n",
      " 6   total sulfur dioxide  1143 non-null   float64\n",
      " 7   density               1143 non-null   float64\n",
      " 8   pH                    1143 non-null   float64\n",
      " 9   sulphates             1143 non-null   float64\n",
      " 10  alcohol               1143 non-null   float64\n",
      " 11  quality               1143 non-null   int64  \n",
      " 12  Id                    1143 non-null   int64  \n",
      "dtypes: float64(11), int64(2)\n",
      "memory usage: 116.2 KB\n"
     ]
    }
   ],
   "source": [
    "df.info()"
   ]
  },
  {
   "cell_type": "markdown",
   "id": "f272f29b",
   "metadata": {
    "papermill": {
     "duration": 0.026111,
     "end_time": "2022-01-16T12:55:51.854139",
     "exception": false,
     "start_time": "2022-01-16T12:55:51.828028",
     "status": "completed"
    },
    "tags": []
   },
   "source": [
    "<h2>Summary statistics</h2>"
   ]
  },
  {
   "cell_type": "code",
   "execution_count": 6,
   "id": "ef358f98",
   "metadata": {
    "execution": {
     "iopub.execute_input": "2022-01-16T12:55:51.913865Z",
     "iopub.status.busy": "2022-01-16T12:55:51.913038Z",
     "iopub.status.idle": "2022-01-16T12:55:51.963710Z",
     "shell.execute_reply": "2022-01-16T12:55:51.964203Z",
     "shell.execute_reply.started": "2022-01-16T12:53:44.436866Z"
    },
    "papermill": {
     "duration": 0.083508,
     "end_time": "2022-01-16T12:55:51.964423",
     "exception": false,
     "start_time": "2022-01-16T12:55:51.880915",
     "status": "completed"
    },
    "tags": []
   },
   "outputs": [
    {
     "data": {
      "text/html": [
       "<div>\n",
       "<style scoped>\n",
       "    .dataframe tbody tr th:only-of-type {\n",
       "        vertical-align: middle;\n",
       "    }\n",
       "\n",
       "    .dataframe tbody tr th {\n",
       "        vertical-align: top;\n",
       "    }\n",
       "\n",
       "    .dataframe thead th {\n",
       "        text-align: right;\n",
       "    }\n",
       "</style>\n",
       "<table border=\"1\" class=\"dataframe\">\n",
       "  <thead>\n",
       "    <tr style=\"text-align: right;\">\n",
       "      <th></th>\n",
       "      <th>fixed acidity</th>\n",
       "      <th>volatile acidity</th>\n",
       "      <th>citric acid</th>\n",
       "      <th>residual sugar</th>\n",
       "      <th>chlorides</th>\n",
       "      <th>free sulfur dioxide</th>\n",
       "      <th>total sulfur dioxide</th>\n",
       "      <th>density</th>\n",
       "      <th>pH</th>\n",
       "      <th>sulphates</th>\n",
       "      <th>alcohol</th>\n",
       "      <th>quality</th>\n",
       "      <th>Id</th>\n",
       "    </tr>\n",
       "  </thead>\n",
       "  <tbody>\n",
       "    <tr>\n",
       "      <th>count</th>\n",
       "      <td>1143.000000</td>\n",
       "      <td>1143.000000</td>\n",
       "      <td>1143.000000</td>\n",
       "      <td>1143.000000</td>\n",
       "      <td>1143.000000</td>\n",
       "      <td>1143.000000</td>\n",
       "      <td>1143.000000</td>\n",
       "      <td>1143.000000</td>\n",
       "      <td>1143.000000</td>\n",
       "      <td>1143.000000</td>\n",
       "      <td>1143.000000</td>\n",
       "      <td>1143.000000</td>\n",
       "      <td>1143.000000</td>\n",
       "    </tr>\n",
       "    <tr>\n",
       "      <th>mean</th>\n",
       "      <td>8.311111</td>\n",
       "      <td>0.531339</td>\n",
       "      <td>0.268364</td>\n",
       "      <td>2.532152</td>\n",
       "      <td>0.086933</td>\n",
       "      <td>15.615486</td>\n",
       "      <td>45.914698</td>\n",
       "      <td>0.996730</td>\n",
       "      <td>3.311015</td>\n",
       "      <td>0.657708</td>\n",
       "      <td>10.442111</td>\n",
       "      <td>5.657043</td>\n",
       "      <td>804.969379</td>\n",
       "    </tr>\n",
       "    <tr>\n",
       "      <th>std</th>\n",
       "      <td>1.747595</td>\n",
       "      <td>0.179633</td>\n",
       "      <td>0.196686</td>\n",
       "      <td>1.355917</td>\n",
       "      <td>0.047267</td>\n",
       "      <td>10.250486</td>\n",
       "      <td>32.782130</td>\n",
       "      <td>0.001925</td>\n",
       "      <td>0.156664</td>\n",
       "      <td>0.170399</td>\n",
       "      <td>1.082196</td>\n",
       "      <td>0.805824</td>\n",
       "      <td>463.997116</td>\n",
       "    </tr>\n",
       "    <tr>\n",
       "      <th>min</th>\n",
       "      <td>4.600000</td>\n",
       "      <td>0.120000</td>\n",
       "      <td>0.000000</td>\n",
       "      <td>0.900000</td>\n",
       "      <td>0.012000</td>\n",
       "      <td>1.000000</td>\n",
       "      <td>6.000000</td>\n",
       "      <td>0.990070</td>\n",
       "      <td>2.740000</td>\n",
       "      <td>0.330000</td>\n",
       "      <td>8.400000</td>\n",
       "      <td>3.000000</td>\n",
       "      <td>0.000000</td>\n",
       "    </tr>\n",
       "    <tr>\n",
       "      <th>25%</th>\n",
       "      <td>7.100000</td>\n",
       "      <td>0.392500</td>\n",
       "      <td>0.090000</td>\n",
       "      <td>1.900000</td>\n",
       "      <td>0.070000</td>\n",
       "      <td>7.000000</td>\n",
       "      <td>21.000000</td>\n",
       "      <td>0.995570</td>\n",
       "      <td>3.205000</td>\n",
       "      <td>0.550000</td>\n",
       "      <td>9.500000</td>\n",
       "      <td>5.000000</td>\n",
       "      <td>411.000000</td>\n",
       "    </tr>\n",
       "    <tr>\n",
       "      <th>50%</th>\n",
       "      <td>7.900000</td>\n",
       "      <td>0.520000</td>\n",
       "      <td>0.250000</td>\n",
       "      <td>2.200000</td>\n",
       "      <td>0.079000</td>\n",
       "      <td>13.000000</td>\n",
       "      <td>37.000000</td>\n",
       "      <td>0.996680</td>\n",
       "      <td>3.310000</td>\n",
       "      <td>0.620000</td>\n",
       "      <td>10.200000</td>\n",
       "      <td>6.000000</td>\n",
       "      <td>794.000000</td>\n",
       "    </tr>\n",
       "    <tr>\n",
       "      <th>75%</th>\n",
       "      <td>9.100000</td>\n",
       "      <td>0.640000</td>\n",
       "      <td>0.420000</td>\n",
       "      <td>2.600000</td>\n",
       "      <td>0.090000</td>\n",
       "      <td>21.000000</td>\n",
       "      <td>61.000000</td>\n",
       "      <td>0.997845</td>\n",
       "      <td>3.400000</td>\n",
       "      <td>0.730000</td>\n",
       "      <td>11.100000</td>\n",
       "      <td>6.000000</td>\n",
       "      <td>1209.500000</td>\n",
       "    </tr>\n",
       "    <tr>\n",
       "      <th>max</th>\n",
       "      <td>15.900000</td>\n",
       "      <td>1.580000</td>\n",
       "      <td>1.000000</td>\n",
       "      <td>15.500000</td>\n",
       "      <td>0.611000</td>\n",
       "      <td>68.000000</td>\n",
       "      <td>289.000000</td>\n",
       "      <td>1.003690</td>\n",
       "      <td>4.010000</td>\n",
       "      <td>2.000000</td>\n",
       "      <td>14.900000</td>\n",
       "      <td>8.000000</td>\n",
       "      <td>1597.000000</td>\n",
       "    </tr>\n",
       "  </tbody>\n",
       "</table>\n",
       "</div>"
      ],
      "text/plain": [
       "       fixed acidity  volatile acidity  citric acid  residual sugar  \\\n",
       "count    1143.000000       1143.000000  1143.000000     1143.000000   \n",
       "mean        8.311111          0.531339     0.268364        2.532152   \n",
       "std         1.747595          0.179633     0.196686        1.355917   \n",
       "min         4.600000          0.120000     0.000000        0.900000   \n",
       "25%         7.100000          0.392500     0.090000        1.900000   \n",
       "50%         7.900000          0.520000     0.250000        2.200000   \n",
       "75%         9.100000          0.640000     0.420000        2.600000   \n",
       "max        15.900000          1.580000     1.000000       15.500000   \n",
       "\n",
       "         chlorides  free sulfur dioxide  total sulfur dioxide      density  \\\n",
       "count  1143.000000          1143.000000           1143.000000  1143.000000   \n",
       "mean      0.086933            15.615486             45.914698     0.996730   \n",
       "std       0.047267            10.250486             32.782130     0.001925   \n",
       "min       0.012000             1.000000              6.000000     0.990070   \n",
       "25%       0.070000             7.000000             21.000000     0.995570   \n",
       "50%       0.079000            13.000000             37.000000     0.996680   \n",
       "75%       0.090000            21.000000             61.000000     0.997845   \n",
       "max       0.611000            68.000000            289.000000     1.003690   \n",
       "\n",
       "                pH    sulphates      alcohol      quality           Id  \n",
       "count  1143.000000  1143.000000  1143.000000  1143.000000  1143.000000  \n",
       "mean      3.311015     0.657708    10.442111     5.657043   804.969379  \n",
       "std       0.156664     0.170399     1.082196     0.805824   463.997116  \n",
       "min       2.740000     0.330000     8.400000     3.000000     0.000000  \n",
       "25%       3.205000     0.550000     9.500000     5.000000   411.000000  \n",
       "50%       3.310000     0.620000    10.200000     6.000000   794.000000  \n",
       "75%       3.400000     0.730000    11.100000     6.000000  1209.500000  \n",
       "max       4.010000     2.000000    14.900000     8.000000  1597.000000  "
      ]
     },
     "execution_count": 6,
     "metadata": {},
     "output_type": "execute_result"
    }
   ],
   "source": [
    "df.describe()"
   ]
  },
  {
   "cell_type": "markdown",
   "id": "ffbbe671",
   "metadata": {
    "papermill": {
     "duration": 0.028154,
     "end_time": "2022-01-16T12:55:52.019463",
     "exception": false,
     "start_time": "2022-01-16T12:55:51.991309",
     "status": "completed"
    },
    "tags": []
   },
   "source": [
    "<h2>Indexing</h2>"
   ]
  },
  {
   "cell_type": "code",
   "execution_count": 7,
   "id": "966faecd",
   "metadata": {
    "execution": {
     "iopub.execute_input": "2022-01-16T12:55:52.083054Z",
     "iopub.status.busy": "2022-01-16T12:55:52.082326Z",
     "iopub.status.idle": "2022-01-16T12:55:52.085079Z",
     "shell.execute_reply": "2022-01-16T12:55:52.085636Z",
     "shell.execute_reply.started": "2022-01-16T12:53:44.485905Z"
    },
    "papermill": {
     "duration": 0.037998,
     "end_time": "2022-01-16T12:55:52.085846",
     "exception": false,
     "start_time": "2022-01-16T12:55:52.047848",
     "status": "completed"
    },
    "tags": []
   },
   "outputs": [
    {
     "data": {
      "text/plain": [
       "RangeIndex(start=0, stop=1143, step=1)"
      ]
     },
     "execution_count": 7,
     "metadata": {},
     "output_type": "execute_result"
    }
   ],
   "source": [
    "df.index"
   ]
  },
  {
   "cell_type": "code",
   "execution_count": 8,
   "id": "c891f56a",
   "metadata": {
    "execution": {
     "iopub.execute_input": "2022-01-16T12:55:52.145710Z",
     "iopub.status.busy": "2022-01-16T12:55:52.144880Z",
     "iopub.status.idle": "2022-01-16T12:55:52.149913Z",
     "shell.execute_reply": "2022-01-16T12:55:52.150442Z",
     "shell.execute_reply.started": "2022-01-16T12:53:44.492438Z"
    },
    "papermill": {
     "duration": 0.037294,
     "end_time": "2022-01-16T12:55:52.150660",
     "exception": false,
     "start_time": "2022-01-16T12:55:52.113366",
     "status": "completed"
    },
    "tags": []
   },
   "outputs": [
    {
     "data": {
      "text/plain": [
       "True"
      ]
     },
     "execution_count": 8,
     "metadata": {},
     "output_type": "execute_result"
    }
   ],
   "source": [
    "df['Id'].is_unique"
   ]
  },
  {
   "cell_type": "code",
   "execution_count": 9,
   "id": "9cd655d4",
   "metadata": {
    "execution": {
     "iopub.execute_input": "2022-01-16T12:55:52.212917Z",
     "iopub.status.busy": "2022-01-16T12:55:52.212112Z",
     "iopub.status.idle": "2022-01-16T12:55:52.214808Z",
     "shell.execute_reply": "2022-01-16T12:55:52.215325Z",
     "shell.execute_reply.started": "2022-01-16T12:53:44.507587Z"
    },
    "papermill": {
     "duration": 0.037156,
     "end_time": "2022-01-16T12:55:52.215528",
     "exception": false,
     "start_time": "2022-01-16T12:55:52.178372",
     "status": "completed"
    },
    "tags": []
   },
   "outputs": [],
   "source": [
    "df.set_index('Id', inplace=True)"
   ]
  },
  {
   "cell_type": "markdown",
   "id": "977b8dfb",
   "metadata": {
    "papermill": {
     "duration": 0.027164,
     "end_time": "2022-01-16T12:55:52.270260",
     "exception": false,
     "start_time": "2022-01-16T12:55:52.243096",
     "status": "completed"
    },
    "tags": []
   },
   "source": [
    "<h3>Appearance with new index</h3>"
   ]
  },
  {
   "cell_type": "code",
   "execution_count": 10,
   "id": "d024f0e8",
   "metadata": {
    "execution": {
     "iopub.execute_input": "2022-01-16T12:55:52.337172Z",
     "iopub.status.busy": "2022-01-16T12:55:52.336423Z",
     "iopub.status.idle": "2022-01-16T12:55:52.350315Z",
     "shell.execute_reply": "2022-01-16T12:55:52.350845Z",
     "shell.execute_reply.started": "2022-01-16T12:53:44.521265Z"
    },
    "papermill": {
     "duration": 0.053346,
     "end_time": "2022-01-16T12:55:52.351042",
     "exception": false,
     "start_time": "2022-01-16T12:55:52.297696",
     "status": "completed"
    },
    "tags": []
   },
   "outputs": [
    {
     "data": {
      "text/html": [
       "<div>\n",
       "<style scoped>\n",
       "    .dataframe tbody tr th:only-of-type {\n",
       "        vertical-align: middle;\n",
       "    }\n",
       "\n",
       "    .dataframe tbody tr th {\n",
       "        vertical-align: top;\n",
       "    }\n",
       "\n",
       "    .dataframe thead th {\n",
       "        text-align: right;\n",
       "    }\n",
       "</style>\n",
       "<table border=\"1\" class=\"dataframe\">\n",
       "  <thead>\n",
       "    <tr style=\"text-align: right;\">\n",
       "      <th></th>\n",
       "      <th>fixed acidity</th>\n",
       "      <th>volatile acidity</th>\n",
       "      <th>citric acid</th>\n",
       "      <th>residual sugar</th>\n",
       "      <th>chlorides</th>\n",
       "      <th>free sulfur dioxide</th>\n",
       "      <th>total sulfur dioxide</th>\n",
       "      <th>density</th>\n",
       "      <th>pH</th>\n",
       "      <th>sulphates</th>\n",
       "      <th>alcohol</th>\n",
       "      <th>quality</th>\n",
       "    </tr>\n",
       "    <tr>\n",
       "      <th>Id</th>\n",
       "      <th></th>\n",
       "      <th></th>\n",
       "      <th></th>\n",
       "      <th></th>\n",
       "      <th></th>\n",
       "      <th></th>\n",
       "      <th></th>\n",
       "      <th></th>\n",
       "      <th></th>\n",
       "      <th></th>\n",
       "      <th></th>\n",
       "      <th></th>\n",
       "    </tr>\n",
       "  </thead>\n",
       "  <tbody>\n",
       "    <tr>\n",
       "      <th>0</th>\n",
       "      <td>7.4</td>\n",
       "      <td>0.70</td>\n",
       "      <td>0.00</td>\n",
       "      <td>1.9</td>\n",
       "      <td>0.076</td>\n",
       "      <td>11.0</td>\n",
       "      <td>34.0</td>\n",
       "      <td>0.9978</td>\n",
       "      <td>3.51</td>\n",
       "      <td>0.56</td>\n",
       "      <td>9.4</td>\n",
       "      <td>5</td>\n",
       "    </tr>\n",
       "    <tr>\n",
       "      <th>1</th>\n",
       "      <td>7.8</td>\n",
       "      <td>0.88</td>\n",
       "      <td>0.00</td>\n",
       "      <td>2.6</td>\n",
       "      <td>0.098</td>\n",
       "      <td>25.0</td>\n",
       "      <td>67.0</td>\n",
       "      <td>0.9968</td>\n",
       "      <td>3.20</td>\n",
       "      <td>0.68</td>\n",
       "      <td>9.8</td>\n",
       "      <td>5</td>\n",
       "    </tr>\n",
       "    <tr>\n",
       "      <th>2</th>\n",
       "      <td>7.8</td>\n",
       "      <td>0.76</td>\n",
       "      <td>0.04</td>\n",
       "      <td>2.3</td>\n",
       "      <td>0.092</td>\n",
       "      <td>15.0</td>\n",
       "      <td>54.0</td>\n",
       "      <td>0.9970</td>\n",
       "      <td>3.26</td>\n",
       "      <td>0.65</td>\n",
       "      <td>9.8</td>\n",
       "      <td>5</td>\n",
       "    </tr>\n",
       "    <tr>\n",
       "      <th>3</th>\n",
       "      <td>11.2</td>\n",
       "      <td>0.28</td>\n",
       "      <td>0.56</td>\n",
       "      <td>1.9</td>\n",
       "      <td>0.075</td>\n",
       "      <td>17.0</td>\n",
       "      <td>60.0</td>\n",
       "      <td>0.9980</td>\n",
       "      <td>3.16</td>\n",
       "      <td>0.58</td>\n",
       "      <td>9.8</td>\n",
       "      <td>6</td>\n",
       "    </tr>\n",
       "    <tr>\n",
       "      <th>4</th>\n",
       "      <td>7.4</td>\n",
       "      <td>0.70</td>\n",
       "      <td>0.00</td>\n",
       "      <td>1.9</td>\n",
       "      <td>0.076</td>\n",
       "      <td>11.0</td>\n",
       "      <td>34.0</td>\n",
       "      <td>0.9978</td>\n",
       "      <td>3.51</td>\n",
       "      <td>0.56</td>\n",
       "      <td>9.4</td>\n",
       "      <td>5</td>\n",
       "    </tr>\n",
       "  </tbody>\n",
       "</table>\n",
       "</div>"
      ],
      "text/plain": [
       "    fixed acidity  volatile acidity  citric acid  residual sugar  chlorides  \\\n",
       "Id                                                                            \n",
       "0             7.4              0.70         0.00             1.9      0.076   \n",
       "1             7.8              0.88         0.00             2.6      0.098   \n",
       "2             7.8              0.76         0.04             2.3      0.092   \n",
       "3            11.2              0.28         0.56             1.9      0.075   \n",
       "4             7.4              0.70         0.00             1.9      0.076   \n",
       "\n",
       "    free sulfur dioxide  total sulfur dioxide  density    pH  sulphates  \\\n",
       "Id                                                                        \n",
       "0                  11.0                  34.0   0.9978  3.51       0.56   \n",
       "1                  25.0                  67.0   0.9968  3.20       0.68   \n",
       "2                  15.0                  54.0   0.9970  3.26       0.65   \n",
       "3                  17.0                  60.0   0.9980  3.16       0.58   \n",
       "4                  11.0                  34.0   0.9978  3.51       0.56   \n",
       "\n",
       "    alcohol  quality  \n",
       "Id                    \n",
       "0       9.4        5  \n",
       "1       9.8        5  \n",
       "2       9.8        5  \n",
       "3       9.8        6  \n",
       "4       9.4        5  "
      ]
     },
     "execution_count": 10,
     "metadata": {},
     "output_type": "execute_result"
    }
   ],
   "source": [
    "df.head()"
   ]
  },
  {
   "cell_type": "markdown",
   "id": "ce9ae9a7",
   "metadata": {
    "papermill": {
     "duration": 0.027872,
     "end_time": "2022-01-16T12:55:52.407500",
     "exception": false,
     "start_time": "2022-01-16T12:55:52.379628",
     "status": "completed"
    },
    "tags": []
   },
   "source": [
    "<h1>Some preliminary observations</h1>\n",
    "<li>No column seems useless for our analysis so far and so we are not going to drop any</li>\n",
    "<li>The *wine quality* variable seems to be the <b>target variable</b> while the rest are the <b>feature variables</b></li>"
   ]
  },
  {
   "cell_type": "markdown",
   "id": "bbef1ea0",
   "metadata": {
    "papermill": {
     "duration": 0.027569,
     "end_time": "2022-01-16T12:55:52.463045",
     "exception": false,
     "start_time": "2022-01-16T12:55:52.435476",
     "status": "completed"
    },
    "tags": []
   },
   "source": [
    "<h1>Visualization</h1>"
   ]
  },
  {
   "cell_type": "code",
   "execution_count": 11,
   "id": "d4f10454",
   "metadata": {
    "execution": {
     "iopub.execute_input": "2022-01-16T12:55:52.525746Z",
     "iopub.status.busy": "2022-01-16T12:55:52.524865Z",
     "iopub.status.idle": "2022-01-16T12:55:53.744630Z",
     "shell.execute_reply": "2022-01-16T12:55:53.743970Z",
     "shell.execute_reply.started": "2022-01-16T12:53:44.545870Z"
    },
    "papermill": {
     "duration": 1.253854,
     "end_time": "2022-01-16T12:55:53.744792",
     "exception": false,
     "start_time": "2022-01-16T12:55:52.490938",
     "status": "completed"
    },
    "tags": []
   },
   "outputs": [],
   "source": [
    "#visualization\n",
    "\n",
    "from matplotlib import pyplot as plt\n",
    "import seaborn as sns\n",
    "sns.set_theme()"
   ]
  },
  {
   "cell_type": "markdown",
   "id": "0663bd66",
   "metadata": {
    "papermill": {
     "duration": 0.029247,
     "end_time": "2022-01-16T12:55:53.803686",
     "exception": false,
     "start_time": "2022-01-16T12:55:53.774439",
     "status": "completed"
    },
    "tags": []
   },
   "source": [
    "<h2>Distribution of the target variable wine quality</h2>"
   ]
  },
  {
   "cell_type": "code",
   "execution_count": 12,
   "id": "cfa4450d",
   "metadata": {
    "execution": {
     "iopub.execute_input": "2022-01-16T12:55:53.865496Z",
     "iopub.status.busy": "2022-01-16T12:55:53.864428Z",
     "iopub.status.idle": "2022-01-16T12:55:54.351589Z",
     "shell.execute_reply": "2022-01-16T12:55:54.350876Z",
     "shell.execute_reply.started": "2022-01-16T12:53:44.557317Z"
    },
    "papermill": {
     "duration": 0.519372,
     "end_time": "2022-01-16T12:55:54.351749",
     "exception": false,
     "start_time": "2022-01-16T12:55:53.832377",
     "status": "completed"
    },
    "tags": []
   },
   "outputs": [
    {
     "data": {
      "image/png": "[encoded data removed]",
      "text/plain": [
       "<Figure size 360x360 with 1 Axes>"
      ]
     },
     "metadata": {},
     "output_type": "display_data"
    }
   ],
   "source": [
    "sns.displot(data=df, x='quality')\n",
    "plt.show()"
   ]
  },
  {
   "cell_type": "markdown",
   "id": "d9f807e3",
   "metadata": {
    "papermill": {
     "duration": 0.02798,
     "end_time": "2022-01-16T12:55:54.408780",
     "exception": false,
     "start_time": "2022-01-16T12:55:54.380800",
     "status": "completed"
    },
    "tags": []
   },
   "source": [
    "<h3>Observation:</h3>\n",
    "<li>We see that wine quality 5 and 6 are our most popular outcomes</li>"
   ]
  },
  {
   "cell_type": "markdown",
   "id": "b69ff8d5",
   "metadata": {
    "papermill": {
     "duration": 0.027958,
     "end_time": "2022-01-16T12:55:54.465254",
     "exception": false,
     "start_time": "2022-01-16T12:55:54.437296",
     "status": "completed"
    },
    "tags": []
   },
   "source": [
    "<h2>Search for strongest feature variables</h2>"
   ]
  },
  {
   "cell_type": "code",
   "execution_count": 13,
   "id": "308b34e9",
   "metadata": {
    "execution": {
     "iopub.execute_input": "2022-01-16T12:55:54.531012Z",
     "iopub.status.busy": "2022-01-16T12:55:54.530282Z",
     "iopub.status.idle": "2022-01-16T12:55:54.532899Z",
     "shell.execute_reply": "2022-01-16T12:55:54.533433Z",
     "shell.execute_reply.started": "2022-01-16T12:53:44.893069Z"
    },
    "papermill": {
     "duration": 0.039856,
     "end_time": "2022-01-16T12:55:54.533617",
     "exception": false,
     "start_time": "2022-01-16T12:55:54.493761",
     "status": "completed"
    },
    "tags": []
   },
   "outputs": [],
   "source": [
    "#We will use seaborn's heatmap function for this\n",
    "tc = df.corr()"
   ]
  },
  {
   "cell_type": "code",
   "execution_count": 14,
   "id": "095d5b5a",
   "metadata": {
    "execution": {
     "iopub.execute_input": "2022-01-16T12:55:54.594384Z",
     "iopub.status.busy": "2022-01-16T12:55:54.593370Z",
     "iopub.status.idle": "2022-01-16T12:55:55.449995Z",
     "shell.execute_reply": "2022-01-16T12:55:55.450521Z",
     "shell.execute_reply.started": "2022-01-16T12:53:44.899936Z"
    },
    "papermill": {
     "duration": 0.888536,
     "end_time": "2022-01-16T12:55:55.450714",
     "exception": false,
     "start_time": "2022-01-16T12:55:54.562178",
     "status": "completed"
    },
    "tags": []
   },
   "outputs": [
    {
     "data": {
      "image/png": "[encoded data removed]",
      "text/plain": [
       "<Figure size 432x288 with 1 Axes>"
      ]
     },
     "metadata": {},
     "output_type": "display_data"
    }
   ],
   "source": [
    "sns.heatmap(tc, annot=True, cbar=False, linewidth=1.5, cmap='YlGnBu')\n",
    "plt.show()"
   ]
  },
  {
   "cell_type": "markdown",
   "id": "2c460733",
   "metadata": {
    "papermill": {
     "duration": 0.032092,
     "end_time": "2022-01-16T12:55:55.515112",
     "exception": false,
     "start_time": "2022-01-16T12:55:55.483020",
     "status": "completed"
    },
    "tags": []
   },
   "source": [
    "<h3>Observation:</h3>\n",
    "<h4>We see that the strongest feature variables are:</h4>\n",
    "<li>*alcohol*,</li> <li>*sulphates*,</li> <li>*citric acid*,</li> <li>*volatile acidity*</li>"
   ]
  },
  {
   "cell_type": "markdown",
   "id": "4b00d365",
   "metadata": {
    "papermill": {
     "duration": 0.031536,
     "end_time": "2022-01-16T12:55:55.578659",
     "exception": false,
     "start_time": "2022-01-16T12:55:55.547123",
     "status": "completed"
    },
    "tags": []
   },
   "source": [
    "<h2>We drop the weak feature variables</h2>"
   ]
  },
  {
   "cell_type": "code",
   "execution_count": 15,
   "id": "3aebb438",
   "metadata": {
    "execution": {
     "iopub.execute_input": "2022-01-16T12:55:55.660390Z",
     "iopub.status.busy": "2022-01-16T12:55:55.659426Z",
     "iopub.status.idle": "2022-01-16T12:55:55.663659Z",
     "shell.execute_reply": "2022-01-16T12:55:55.663024Z",
     "shell.execute_reply.started": "2022-01-16T12:53:45.612821Z"
    },
    "papermill": {
     "duration": 0.052898,
     "end_time": "2022-01-16T12:55:55.663818",
     "exception": false,
     "start_time": "2022-01-16T12:55:55.610920",
     "status": "completed"
    },
    "tags": []
   },
   "outputs": [
    {
     "data": {
      "text/html": [
       "<div>\n",
       "<style scoped>\n",
       "    .dataframe tbody tr th:only-of-type {\n",
       "        vertical-align: middle;\n",
       "    }\n",
       "\n",
       "    .dataframe tbody tr th {\n",
       "        vertical-align: top;\n",
       "    }\n",
       "\n",
       "    .dataframe thead th {\n",
       "        text-align: right;\n",
       "    }\n",
       "</style>\n",
       "<table border=\"1\" class=\"dataframe\">\n",
       "  <thead>\n",
       "    <tr style=\"text-align: right;\">\n",
       "      <th></th>\n",
       "      <th>volatile acidity</th>\n",
       "      <th>citric acid</th>\n",
       "      <th>total sulfur dioxide</th>\n",
       "      <th>sulphates</th>\n",
       "      <th>alcohol</th>\n",
       "      <th>quality</th>\n",
       "    </tr>\n",
       "    <tr>\n",
       "      <th>Id</th>\n",
       "      <th></th>\n",
       "      <th></th>\n",
       "      <th></th>\n",
       "      <th></th>\n",
       "      <th></th>\n",
       "      <th></th>\n",
       "    </tr>\n",
       "  </thead>\n",
       "  <tbody>\n",
       "    <tr>\n",
       "      <th>0</th>\n",
       "      <td>0.70</td>\n",
       "      <td>0.00</td>\n",
       "      <td>34.0</td>\n",
       "      <td>0.56</td>\n",
       "      <td>9.4</td>\n",
       "      <td>5</td>\n",
       "    </tr>\n",
       "    <tr>\n",
       "      <th>1</th>\n",
       "      <td>0.88</td>\n",
       "      <td>0.00</td>\n",
       "      <td>67.0</td>\n",
       "      <td>0.68</td>\n",
       "      <td>9.8</td>\n",
       "      <td>5</td>\n",
       "    </tr>\n",
       "    <tr>\n",
       "      <th>2</th>\n",
       "      <td>0.76</td>\n",
       "      <td>0.04</td>\n",
       "      <td>54.0</td>\n",
       "      <td>0.65</td>\n",
       "      <td>9.8</td>\n",
       "      <td>5</td>\n",
       "    </tr>\n",
       "    <tr>\n",
       "      <th>3</th>\n",
       "      <td>0.28</td>\n",
       "      <td>0.56</td>\n",
       "      <td>60.0</td>\n",
       "      <td>0.58</td>\n",
       "      <td>9.8</td>\n",
       "      <td>6</td>\n",
       "    </tr>\n",
       "    <tr>\n",
       "      <th>4</th>\n",
       "      <td>0.70</td>\n",
       "      <td>0.00</td>\n",
       "      <td>34.0</td>\n",
       "      <td>0.56</td>\n",
       "      <td>9.4</td>\n",
       "      <td>5</td>\n",
       "    </tr>\n",
       "  </tbody>\n",
       "</table>\n",
       "</div>"
      ],
      "text/plain": [
       "    volatile acidity  citric acid  total sulfur dioxide  sulphates  alcohol  \\\n",
       "Id                                                                            \n",
       "0               0.70         0.00                  34.0       0.56      9.4   \n",
       "1               0.88         0.00                  67.0       0.68      9.8   \n",
       "2               0.76         0.04                  54.0       0.65      9.8   \n",
       "3               0.28         0.56                  60.0       0.58      9.8   \n",
       "4               0.70         0.00                  34.0       0.56      9.4   \n",
       "\n",
       "    quality  \n",
       "Id           \n",
       "0         5  \n",
       "1         5  \n",
       "2         5  \n",
       "3         6  \n",
       "4         5  "
      ]
     },
     "execution_count": 15,
     "metadata": {},
     "output_type": "execute_result"
    }
   ],
   "source": [
    "df.drop(['fixed acidity', 'residual sugar', 'chlorides', 'free sulfur dioxide', 'density', 'pH'], axis=1, inplace=True)\n",
    "df.head()"
   ]
  },
  {
   "cell_type": "markdown",
   "id": "f6b0e402",
   "metadata": {
    "papermill": {
     "duration": 0.03262,
     "end_time": "2022-01-16T12:55:55.729893",
     "exception": false,
     "start_time": "2022-01-16T12:55:55.697273",
     "status": "completed"
    },
    "tags": []
   },
   "source": [
    "<h2>conditional relationships for each , one by one</h2>"
   ]
  },
  {
   "cell_type": "code",
   "execution_count": 16,
   "id": "b2de707f",
   "metadata": {
    "execution": {
     "iopub.execute_input": "2022-01-16T12:55:55.814600Z",
     "iopub.status.busy": "2022-01-16T12:55:55.805025Z",
     "iopub.status.idle": "2022-01-16T12:55:56.443171Z",
     "shell.execute_reply": "2022-01-16T12:55:56.443694Z",
     "shell.execute_reply.started": "2022-01-16T12:53:45.640685Z"
    },
    "papermill": {
     "duration": 0.681049,
     "end_time": "2022-01-16T12:55:56.443895",
     "exception": false,
     "start_time": "2022-01-16T12:55:55.762846",
     "status": "completed"
    },
    "tags": []
   },
   "outputs": [
    {
     "data": {
      "text/plain": [
       "<seaborn.axisgrid.FacetGrid at 0x7f5441a30ad0>"
      ]
     },
     "execution_count": 16,
     "metadata": {},
     "output_type": "execute_result"
    },
    {
     "data": {
      "image/png": "[encoded data removed]",
      "text/plain": [
       "<Figure size 360x360 with 1 Axes>"
      ]
     },
     "metadata": {},
     "output_type": "display_data"
    }
   ],
   "source": [
    "sns.relplot(x='quality', y='alcohol', data=df, kind='line')"
   ]
  },
  {
   "cell_type": "markdown",
   "id": "1921916f",
   "metadata": {
    "papermill": {
     "duration": 0.034898,
     "end_time": "2022-01-16T12:55:56.512907",
     "exception": false,
     "start_time": "2022-01-16T12:55:56.478009",
     "status": "completed"
    },
    "tags": []
   },
   "source": [
    "<h3>Observation</h3>\n",
    "<li>We see that quality varies directly with alcohol content</li>"
   ]
  },
  {
   "cell_type": "code",
   "execution_count": 17,
   "id": "6a23f062",
   "metadata": {
    "execution": {
     "iopub.execute_input": "2022-01-16T12:55:56.585096Z",
     "iopub.status.busy": "2022-01-16T12:55:56.584384Z",
     "iopub.status.idle": "2022-01-16T12:55:57.219336Z",
     "shell.execute_reply": "2022-01-16T12:55:57.219828Z",
     "shell.execute_reply.started": "2022-01-16T12:53:46.141567Z"
    },
    "papermill": {
     "duration": 0.673067,
     "end_time": "2022-01-16T12:55:57.220034",
     "exception": false,
     "start_time": "2022-01-16T12:55:56.546967",
     "status": "completed"
    },
    "tags": []
   },
   "outputs": [
    {
     "data": {
      "text/plain": [
       "<seaborn.axisgrid.FacetGrid at 0x7f5449dcb910>"
      ]
     },
     "execution_count": 17,
     "metadata": {},
     "output_type": "execute_result"
    },
    {
     "data": {
      "image/png": "[encoded data removed]",
      "text/plain": [
       "<Figure size 360x360 with 1 Axes>"
      ]
     },
     "metadata": {},
     "output_type": "display_data"
    }
   ],
   "source": [
    "sns.relplot(x='quality', y='sulphates', data=df, kind='line')"
   ]
  },
  {
   "cell_type": "markdown",
   "id": "65fbb8a1",
   "metadata": {
    "papermill": {
     "duration": 0.035305,
     "end_time": "2022-01-16T12:55:57.291096",
     "exception": false,
     "start_time": "2022-01-16T12:55:57.255791",
     "status": "completed"
    },
    "tags": []
   },
   "source": [
    "<h3>Observation</h3>\n",
    "<li>We see that wine quality varies somewhat directly with sulphates</li>"
   ]
  },
  {
   "cell_type": "code",
   "execution_count": 18,
   "id": "a480416f",
   "metadata": {
    "execution": {
     "iopub.execute_input": "2022-01-16T12:55:57.371296Z",
     "iopub.status.busy": "2022-01-16T12:55:57.370584Z",
     "iopub.status.idle": "2022-01-16T12:55:57.996689Z",
     "shell.execute_reply": "2022-01-16T12:55:57.997199Z",
     "shell.execute_reply.started": "2022-01-16T12:53:46.589387Z"
    },
    "papermill": {
     "duration": 0.670796,
     "end_time": "2022-01-16T12:55:57.997429",
     "exception": false,
     "start_time": "2022-01-16T12:55:57.326633",
     "status": "completed"
    },
    "tags": []
   },
   "outputs": [
    {
     "data": {
      "text/plain": [
       "<seaborn.axisgrid.FacetGrid at 0x7f54406cdfd0>"
      ]
     },
     "execution_count": 18,
     "metadata": {},
     "output_type": "execute_result"
    },
    {
     "data": {
      "image/png": "[encoded data removed]",
      "text/plain": [
       "<Figure size 360x360 with 1 Axes>"
      ]
     },
     "metadata": {},
     "output_type": "display_data"
    }
   ],
   "source": [
    "sns.relplot(x='quality', y='citric acid', data=df, kind='line')"
   ]
  },
  {
   "cell_type": "markdown",
   "id": "164f7f56",
   "metadata": {
    "papermill": {
     "duration": 0.036552,
     "end_time": "2022-01-16T12:55:58.072590",
     "exception": false,
     "start_time": "2022-01-16T12:55:58.036038",
     "status": "completed"
    },
    "tags": []
   },
   "source": [
    "<h3>Observation</h3>\n",
    "<li>We also see that quality varies somewhat directly with citric acid</li>"
   ]
  },
  {
   "cell_type": "code",
   "execution_count": 19,
   "id": "e1323906",
   "metadata": {
    "execution": {
     "iopub.execute_input": "2022-01-16T12:55:58.155208Z",
     "iopub.status.busy": "2022-01-16T12:55:58.154507Z",
     "iopub.status.idle": "2022-01-16T12:55:58.770147Z",
     "shell.execute_reply": "2022-01-16T12:55:58.770692Z",
     "shell.execute_reply.started": "2022-01-16T12:53:47.033372Z"
    },
    "papermill": {
     "duration": 0.661398,
     "end_time": "2022-01-16T12:55:58.770895",
     "exception": false,
     "start_time": "2022-01-16T12:55:58.109497",
     "status": "completed"
    },
    "tags": []
   },
   "outputs": [
    {
     "data": {
      "text/plain": [
       "<seaborn.axisgrid.FacetGrid at 0x7f544063d450>"
      ]
     },
     "execution_count": 19,
     "metadata": {},
     "output_type": "execute_result"
    },
    {
     "data": {
      "image/png": "[encoded data removed]",
      "text/plain": [
       "<Figure size 360x360 with 1 Axes>"
      ]
     },
     "metadata": {},
     "output_type": "display_data"
    }
   ],
   "source": [
    "sns.relplot(x='quality', y='volatile acidity', data=df, kind='line')"
   ]
  },
  {
   "cell_type": "markdown",
   "id": "ae28ccd5",
   "metadata": {
    "papermill": {
     "duration": 0.038171,
     "end_time": "2022-01-16T12:55:58.848032",
     "exception": false,
     "start_time": "2022-01-16T12:55:58.809861",
     "status": "completed"
    },
    "tags": []
   },
   "source": [
    "<h3>Observation</h3>\n",
    "<li>We also see that quality varies inversely with volatile acidity</li>"
   ]
  },
  {
   "cell_type": "code",
   "execution_count": null,
   "id": "63b7d695",
   "metadata": {
    "papermill": {
     "duration": 0.038125,
     "end_time": "2022-01-16T12:55:58.924486",
     "exception": false,
     "start_time": "2022-01-16T12:55:58.886361",
     "status": "completed"
    },
    "tags": []
   },
   "outputs": [],
   "source": []
  }
 ],
 "metadata": {
  "kernelspec": {
   "display_name": "Python 3",
   "language": "python",
   "name": "python3"
  },
  "language_info": {
   "codemirror_mode": {
    "name": "ipython",
    "version": 3
   },
   "file_extension": ".py",
   "mimetype": "text/x-python",
   "name": "python",
   "nbconvert_exporter": "python",
   "pygments_lexer": "ipython3",
   "version": "3.7.12"
  },
  "papermill": {
   "default_parameters": {},
   "duration": 19.694294,
   "end_time": "2022-01-16T12:55:59.976417",
   "environment_variables": {},
   "exception": null,
   "input_path": "__notebook__.ipynb",
   "output_path": "__notebook__.ipynb",
   "parameters": {},
   "start_time": "2022-01-16T12:55:40.282123",
   "version": "2.3.3"
  }
 },
 "nbformat": 4,
 "nbformat_minor": 5
}
